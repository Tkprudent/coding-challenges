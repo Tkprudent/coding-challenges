{
 "nbformat": 4,
 "nbformat_minor": 2,
 "metadata": {
  "language_info": {
   "name": "python",
   "codemirror_mode": {
    "name": "ipython",
    "version": 3
   },
   "version": "3.8.0-final"
  },
  "orig_nbformat": 2,
  "file_extension": ".py",
  "mimetype": "text/x-python",
  "name": "python",
  "npconvert_exporter": "python",
  "pygments_lexer": "ipython3",
  "version": 3,
  "kernelspec": {
   "name": "python38064bit03f9e58b6abd472f98a4be4c39cff443",
   "display_name": "Python 3.8.0 64-bit"
  }
 },
 "cells": [
  {
   "cell_type": "markdown",
   "execution_count": 6,
   "metadata": {},
   "outputs": [],
   "source": [
    "Write a function called \"show_excitement\" where the string \"I am super excited for this course!\" is returned exactly 5 times, where each sentence is separated by a single space. Return the string with \"return\". You can only have the string once in your code.Don't just copy/paste it 5 times into a single variable!"
   ]
  },
  {
   "cell_type": "code",
   "execution_count": 8,
   "metadata": {},
   "outputs": [
    {
     "name": "stdout",
     "output_type": "stream",
     "text": "I am super excited for this course! I am super excited for this course! I am super excited for this course! I am super excited for this course! I am super excited for this course! \n"
    }
   ],
   "source": [
    "def show_excitement():\n",
    "    # Your code goes here!\n",
    "    sentenceExcitement = []\n",
    "    strr = \"I am super excited for this course! \"\n",
    "    for i in range(5):\n",
    "        sentenceExcitement.append(strr)\n",
    "\n",
    "    return \"\".join(sentenceExcitement)\n",
    "\n",
    "print(show_excitement())"
   ]
  },
  {
   "cell_type": "code",
   "execution_count": null,
   "metadata": {},
   "outputs": [],
   "source": []
  }
 ]
}