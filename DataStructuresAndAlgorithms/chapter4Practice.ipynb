{
 "nbformat": 4,
 "nbformat_minor": 2,
 "metadata": {
  "language_info": {
   "name": "python",
   "codemirror_mode": {
    "name": "ipython",
    "version": 3
   },
   "version": "3.7.6-final"
  },
  "orig_nbformat": 2,
  "file_extension": ".py",
  "mimetype": "text/x-python",
  "name": "python",
  "npconvert_exporter": "python",
  "pygments_lexer": "ipython3",
  "version": 3,
  "kernelspec": {
   "name": "python37664bit895465409e1a4a2c92932ba236969aaf",
   "display_name": "Python 3.7.6 64-bit"
  }
 },
 "cells": [
  {
   "cell_type": "markdown",
   "execution_count": null,
   "metadata": {},
   "outputs": [],
   "source": [
    "To demonstrate the mechanics of recursion, we begin with a simple mathematical example of computing the factorial function. The factorial of a positive integer n, denoted n! is defined as the product of the integers from 1 to n. If n = 0, then n! = 1 by convention.\n",
    "\n",
    "A recursive implementation of the factorial function will look like;"
   ]
  },
  {
   "cell_type": "code",
   "execution_count": 1,
   "metadata": {},
   "outputs": [],
   "source": [
    "def factorial(n):\n",
    "    if n == 0:\n",
    "        return 1\n",
    "    else:\n",
    "        return n * factorial(n-1)"
   ]
  },
  {
   "cell_type": "code",
   "execution_count": 3,
   "metadata": {},
   "outputs": [
    {
     "name": "stdout",
     "output_type": "stream",
     "text": "The factorial of 0 is 1\nThe factorial of 1 is 1\nThe factorial of 2 is 2\nThe factorial of 3 is 6\nThe factorial of 4 is 24\nThe factorial of 5 is 120\nThe factorial of 6 is 720\nThe factorial of 7 is 5040\nThe factorial of 8 is 40320\nThe factorial of 9 is 362880\n"
    }
   ],
   "source": [
    "for i in range(10):\n",
    "    print(\"The factorial of {} is {}\".format(i,factorial(i)))"
   ]
  },
  {
   "cell_type": "markdown",
   "execution_count": null,
   "metadata": {},
   "outputs": [],
   "source": [
    "In Python, each time a function (recursive or otherwise) is called, a structure known as an activation record or frame is created to store information about the progress of that invocation of the function."
   ]
  },
  {
   "cell_type": "markdown",
   "execution_count": null,
   "metadata": {},
   "outputs": [],
   "source": [
    "#### Drawing an English Ruler\n",
    "In the case of computing a factorial, there is no compelling reason for preferring\n",
    "recursion over a direct iteration with a loop. As a more complex example of the\n",
    "use of recursion, consider how to draw the markings of a typical English ruler. For\n",
    "each inch, we place a tick with a numeric label. We denote the length of the tick\n",
    "designating a whole inch as the major tick length. Between the marks for whole\n",
    "inches, the ruler contains a series of minor ticks, placed at intervals of 1/2 inch, 1/4 inch, and so on. As the size of the interval decreases by half, the tick length decreases by one. Figure 4.2 demonstrates several such rulers with varying major tick lengths (although not drawn to scale).\n"
   ]
  },
  {
   "cell_type": "markdown",
   "execution_count": null,
   "metadata": {},
   "outputs": [],
   "source": [
    "A Recursive Approach to Ruler Drawing\n",
    "The English ruler pattern is a simple example of a fractal, that is, a shape that has\n",
    "a self-recursive structure at various levels of magnification. Consider the rule with\n",
    "major tick length 5 shown in Figure 4.2(b). Ignoring the lines containing 0 and 1,\n",
    "let us consider how to draw the sequence of ticks lying between these lines. The\n",
    "central tick (at 1/2 inch) has length 4. Observe that the two patterns of ticks above\n",
    "and below this central tick are identical, and each has a central tick of length 3.\n",
    "\n",
    "In general, an interval with a central tick length L ≥ 1 is composed of:\n",
    "• An interval with a central tick length L−1\n",
    "• A single tick of length L\n",
    "• An interval with a central tick length L−1\n",
    "Although it is possible to draw such a ruler using an iterative process (see Exercise\n",
    "P-4.25), the task is considerably easier to accomplish with recursion. Our\n",
    "implementation consists of three functions, as shown in Code Fragment 4.2. The\n",
    "main function, draw ruler, manages the construction of the entire ruler. Its arguments\n",
    "specify the total number of inches in the ruler and the major tick length. The\n",
    "utility function, draw line, draws a single tick with a specified number of dashes\n",
    "(and an optional string label, that is printed after the tick).\n",
    "The interesting work is done by the recursive draw interval function. This\n",
    "function draws the sequence of minor ticks within some interval, based upon the\n",
    "length of the interval’s central tick. We rely on the intuition shown at the top of this\n",
    "page, and with a base case when L = 0 that draws nothing. For L ≥ 1, the first and\n",
    "last steps are performed by recursively calling draw interval(L−1). The middle\n",
    "step is performed by calling the function draw line(L)."
   ]
  },
  {
   "cell_type": "code",
   "execution_count": 2,
   "metadata": {},
   "outputs": [],
   "source": [
    "class EnglishRuler:\n",
    "    def __init__(self,num_inches,major_length):\n",
    "        self.__num_inches = num_inches\n",
    "        self.__major_length = major_length\n",
    "\n",
    "    def draw_line(self,tick_length,tick_label=''):\n",
    "        line='-'*tick_length\n",
    "        if tick_label:\n",
    "            line+=' '+tick_label\n",
    "        print(line)"
   ]
  },
  {
   "cell_type": "code",
   "execution_count": 3,
   "metadata": {},
   "outputs": [
    {
     "name": "stdout",
     "output_type": "stream",
     "text": "----\n"
    }
   ],
   "source": [
    "if __name__=='__main__':\n",
    "    ruler=EnglishRuler(5,5)\n",
    "    ruler.draw_line(4)"
   ]
  },
  {
   "cell_type": "code",
   "execution_count": null,
   "metadata": {},
   "outputs": [],
   "source": []
  }
 ]
}