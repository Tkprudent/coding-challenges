{
 "nbformat": 4,
 "nbformat_minor": 2,
 "metadata": {
  "language_info": {
   "name": "python",
   "codemirror_mode": {
    "name": "ipython",
    "version": 3
   },
   "version": "3.7.6-final"
  },
  "orig_nbformat": 2,
  "file_extension": ".py",
  "mimetype": "text/x-python",
  "name": "python",
  "npconvert_exporter": "python",
  "pygments_lexer": "ipython3",
  "version": 3,
  "kernelspec": {
   "name": "python37664bit895465409e1a4a2c92932ba236969aaf",
   "display_name": "Python 3.7.6 64-bit"
  }
 },
 "cells": [
  {
   "cell_type": "markdown",
   "execution_count": null,
   "metadata": {},
   "outputs": [],
   "source": [
    "To demonstrate the mechanics of recursion, we begin with a simple mathematical example of computing the factorial function. The factorial of a positive integer n, denoted n! is defined as the product of the integers from 1 to n. If n = 0, then n! = 1 by convention.\n",
    "\n",
    "A recursive implementation of the factorial function will look like;"
   ]
  },
  {
   "cell_type": "code",
   "execution_count": 1,
   "metadata": {},
   "outputs": [],
   "source": [
    "def factorial(n):\n",
    "    if n == 0:\n",
    "        return 1\n",
    "    else:\n",
    "        return n * factorial(n-1)"
   ]
  },
  {
   "cell_type": "code",
   "execution_count": 3,
   "metadata": {},
   "outputs": [
    {
     "name": "stdout",
     "output_type": "stream",
     "text": "The factorial of 0 is 1\nThe factorial of 1 is 1\nThe factorial of 2 is 2\nThe factorial of 3 is 6\nThe factorial of 4 is 24\nThe factorial of 5 is 120\nThe factorial of 6 is 720\nThe factorial of 7 is 5040\nThe factorial of 8 is 40320\nThe factorial of 9 is 362880\n"
    }
   ],
   "source": [
    "for i in range(10):\n",
    "    print(\"The factorial of {} is {}\".format(i,factorial(i)))"
   ]
  },
  {
   "cell_type": "markdown",
   "execution_count": null,
   "metadata": {},
   "outputs": [],
   "source": [
    "In Python, each time a function (recursive or otherwise) is called, a structure known as an activation record or frame is created to store information about the progress of that invocation of the function."
   ]
  },
  {
   "cell_type": "markdown",
   "execution_count": null,
   "metadata": {},
   "outputs": [],
   "source": [
    "#### Drawing an English Ruler\n",
    "In the case of computing a factorial, there is no compelling reason for preferring\n",
    "recursion over a direct iteration with a loop. As a more complex example of the\n",
    "use of recursion, consider how to draw the markings of a typical English ruler. For\n",
    "each inch, we place a tick with a numeric label. We denote the length of the tick\n",
    "designating a whole inch as the major tick length. Between the marks for whole\n",
    "inches, the ruler contains a series of minor ticks, placed at intervals of 1/2 inch, 1/4 inch, and so on. As the size of the interval decreases by half, the tick length decreases by one. Figure 4.2 demonstrates several such rulers with varying major tick lengths (although not drawn to scale).\n"
   ]
  },
  {
   "cell_type": "markdown",
   "execution_count": null,
   "metadata": {},
   "outputs": [],
   "source": [
    "A Recursive Approach to Ruler Drawing\n",
    "The English ruler pattern is a simple example of a fractal, that is, a shape that has\n",
    "a self-recursive structure at various levels of magnification. Consider the rule with\n",
    "major tick length 5 shown in Figure 4.2(b). Ignoring the lines containing 0 and 1,\n",
    "let us consider how to draw the sequence of ticks lying between these lines. The\n",
    "central tick (at 1/2 inch) has length 4. Observe that the two patterns of ticks above\n",
    "and below this central tick are identical, and each has a central tick of length 3.\n",
    "\n",
    "In general, an interval with a central tick length L ≥ 1 is composed of:\n",
    "• An interval with a central tick length L−1\n",
    "• A single tick of length L\n",
    "• An interval with a central tick length L−1\n",
    "Although it is possible to draw such a ruler using an iterative process (see Exercise\n",
    "P-4.25), the task is considerably easier to accomplish with recursion. Our\n",
    "implementation consists of three functions, as shown in Code Fragment 4.2. The\n",
    "main function, draw ruler, manages the construction of the entire ruler. Its arguments\n",
    "specify the total number of inches in the ruler and the major tick length. The\n",
    "utility function, draw line, draws a single tick with a specified number of dashes\n",
    "(and an optional string label, that is printed after the tick).\n",
    "The interesting work is done by the recursive draw interval function. This\n",
    "function draws the sequence of minor ticks within some interval, based upon the\n",
    "length of the interval’s central tick. We rely on the intuition shown at the top of this\n",
    "page, and with a base case when L = 0 that draws nothing. For L ≥ 1, the first and\n",
    "last steps are performed by recursively calling draw interval(L−1). The middle\n",
    "step is performed by calling the function draw line(L)."
   ]
  },
  {
   "cell_type": "code",
   "execution_count": 5,
   "metadata": {},
   "outputs": [],
   "source": [
    "class EnglishRuler:\n",
    "    def __init__(self,num_inches,major_length):\n",
    "        self.__num_inches = num_inches\n",
    "        self.__major_length = major_length\n",
    "\n",
    "    def draw_line(self,tick_length,tick_label=''):\n",
    "        # Draw one line with given tick length (followed by optional label)\n",
    "        line='-'*tick_length\n",
    "        if tick_label:\n",
    "            line+=' '+tick_label\n",
    "        print(line)\n",
    "\n",
    "    # To draw the interior of my english ruler\n",
    "    def draw_interval(self,center_length):\n",
    "        # Draw tick interval based upon a central tick length\n",
    "        if center_length > 0: # stops when length drops to 0\n",
    "            self.draw_interval(center_length -1) # recursively draw top ticks\n",
    "            self.draw_line(center_length) # draw center tick\n",
    "            self.draw_interval(center_length -1) # recursively draw bottom ticks\n",
    "\n",
    "\n",
    "    def draw_ruler(self):\n",
    "        self.draw_line(self.__major_length,'0')\n",
    "        for j in range(1,1+self.__num_inches):\n",
    "            self.draw_interval(self.__major_length - 1) # draw interior ticks for inch\n",
    "            self.draw_line(self.__major_length,str(j)) # draw inch j line and label\n"
   ]
  },
  {
   "cell_type": "code",
   "execution_count": 6,
   "metadata": {},
   "outputs": [
    {
     "name": "stdout",
     "output_type": "stream",
     "text": "----- 0\n-\n--\n-\n---\n-\n--\n-\n----\n-\n--\n-\n---\n-\n--\n-\n----- 1\n-\n--\n-\n---\n-\n--\n-\n----\n-\n--\n-\n---\n-\n--\n-\n----- 2\n-\n--\n-\n---\n-\n--\n-\n----\n-\n--\n-\n---\n-\n--\n-\n----- 3\n-\n--\n-\n---\n-\n--\n-\n----\n-\n--\n-\n---\n-\n--\n-\n----- 4\n-\n--\n-\n---\n-\n--\n-\n----\n-\n--\n-\n---\n-\n--\n-\n----- 5\n"
    }
   ],
   "source": [
    "if __name__=='__main__':\n",
    "    ruler=EnglishRuler(5,5)\n",
    "    ruler.draw_ruler()"
   ]
  },
  {
   "cell_type": "code",
   "execution_count": 7,
   "metadata": {},
   "outputs": [
    {
     "name": "stdout",
     "output_type": "stream",
     "text": "The sum of my list is  30\n"
    }
   ],
   "source": [
    "def sumOfList(xs):\n",
    "    if len(xs) == 0:\n",
    "        raise Exception(\"Empty list!!\")\n",
    "    elif len(xs) == 1:\n",
    "        return xs[0]\n",
    "    else:\n",
    "        return xs[0] + sumOfList(xs[1:])\n",
    "\n",
    "try:\n",
    "    print(\"The sum of my list is \", sumOfList([5,10,15]))\n",
    "except Exception:\n",
    "    print(\"You have given me an empty list!\")"
   ]
  },
  {
   "cell_type": "markdown",
   "execution_count": null,
   "metadata": {},
   "outputs": [],
   "source": [
    "BINARY SEARCH ALGORITHM\n",
    "\n",
    "Suppose we have an unsorted list and want to search for a particular target in the list, one of the options we have is to sequentially search the target and this gives an O(N) in the worst case because we have to search through the entire list. When the sequence is sorted and indexable, there is a much more efficient\n",
    "algorithm. (For intuition, think about how you would accomplish this task by\n",
    "hand!) For any index j, we know that all the values stored at indices 0, . . . , j−1\n",
    "are less than or equal to the value at index j, and all the values stored at indices\n",
    "j+1, . . . ,n−1 are greater than or equal to that at index j. This observation allows\n",
    "us to quickly “home in” on a search target using a variant of the children’s game\n",
    "“high-low.” We call an element of the sequence a candidate if, at the current stage\n",
    "of the search, we cannot rule out that this item matches the target. The algorithm\n",
    "maintains two parameters, low and high, such that all the candidate entries have\n",
    "index at least low and at most high. Initially, low = 0 and high = n−1. We then\n",
    "compare the target value to the median candidate, that is, the item `data[mid]` with\n",
    "index\n",
    "mid = \u0010(low+high)/2\u0011 .\n",
    "\n",
    "We consider three cases:\n",
    "• If the target equals `data[mid]`, then we have found the item we are looking\n",
    "for, and the search terminates successfully.\n",
    "• If target < `data[mid]`, then we recur on the first half of the sequence, that is,\n",
    "on the interval of indices from low to mid−1.\n",
    "• If target > `data[mid]`, then we recur on the second half of the sequence, that\n",
    "is, on the interval of indices from mid+1 to high.\n",
    "\n",
    "This algorithm is known as binary search. We give a Python implementation\n",
    "in Code Fragment 4.3, and an illustration of the execution of the algorithm in Figure\n",
    "4.5. Whereas sequential search runs in O(n) time, the more efficient binary\n",
    "search runs in O(logn) time. This is a significant improvement, given that if n\n",
    "is one billion, logn is only 30. (We defer our formal analysis of binary search’s\n",
    "running time to Proposition 4.2 in Section 4.2.)"
   ]
  },
  {
   "cell_type": "code",
   "execution_count": 8,
   "metadata": {},
   "outputs": [],
   "source": [
    "def binary_search(data,target,low,high):\n",
    "    '''Returns true if target is found in indicated portion of a Python list, the search only considers the portion from data[low] to data[high] inclusive'''\n",
    "    if low > high:\n",
    "        return False\n",
    "    else:\n",
    "        mid = (low + high)/2\n",
    "        if target == data[mid]:\n",
    "            return True\n",
    "        elif target < data[mid]:\n",
    "            # recur on the left portion of the middle\n",
    "            return binary_search(data,target,low,mid-1)\n",
    "        else:\n",
    "            # recur on the right portion of the middle\n",
    "            return binary_search(data,target,mid + 1,high)"
   ]
  },
  {
   "cell_type": "markdown",
   "execution_count": null,
   "metadata": {},
   "outputs": [],
   "source": [
    "#### Python’s os Module\n",
    "To provide a Python implementation of a recursive algorithm for computing disk\n",
    "usage, we rely on Python’s os module, which provides robust tools for interacting\n",
    "with the operating system during the execution of a program. This is an extensive\n",
    "library, but we will only need the following four functions:\n",
    "\n",
    "* os.path.getsize(path)\n",
    "Return the immediate disk usage (measured in bytes) for the file or directory\n",
    "that is identified by the string path (e.g., /user/rt/courses).\n",
    "\n",
    "* os.path.isdir(path)\n",
    "Return True if entry designated by string path is a directory; False otherwise.\n",
    "\n",
    "* os.listdir(path)\n",
    "Return a list of strings that are the names of all entries within a directory\n",
    "designated by string path. In our sample file system, if the parameter is\n",
    "/user/rt/courses, this returns the list `[ cs016 , cs252 ]`.\n",
    "\n",
    "* os.path.join(path, filename)\n",
    "Compose the path string and filename string using an appropriate operating\n",
    "system separator between the two (e.g., the / character for a Unix/Linux\n",
    "system, and the \\ character for Windows). Return the string that represents\n",
    "the full path to the file."
   ]
  },
  {
   "cell_type": "code",
   "execution_count": 9,
   "metadata": {},
   "outputs": [],
   "source": [
    "def good_fibonacci(n):\n",
    "    if n <= 1:\n",
    "        return (n,0)\n",
    "    else:\n",
    "        (a,b) = good_fibonacci(n-1)\n",
    "        return (a+b,a)"
   ]
  },
  {
   "cell_type": "code",
   "execution_count": 11,
   "metadata": {},
   "outputs": [
    {
     "data": {
      "text/plain": "(6765, 4181)"
     },
     "execution_count": 11,
     "metadata": {},
     "output_type": "execute_result"
    }
   ],
   "source": [
    "good_fibonacci(20)"
   ]
  },
  {
   "cell_type": "code",
   "execution_count": 23,
   "metadata": {},
   "outputs": [],
   "source": [
    "# Reversing a sequence with Recursion\n",
    "\n",
    "def reverse(S,start,stop):\n",
    "    # Reverse element in implicit slice S[start:stop]\n",
    "    if start < stop - 1:            # if at least 2 elements\n",
    "        S[start], S[stop-1] = S[stop-1], S[start]  # swap first and last\n",
    "    reverse(S,start + 1,stop - 1)"
   ]
  },
  {
   "cell_type": "code",
   "execution_count": 30,
   "metadata": {},
   "outputs": [],
   "source": [
    "def reverse_iterative(S):\n",
    "    # reverse elements in sequence S\n",
    "    start, stop = 0, len(S)\n",
    "    while start < stop -1:\n",
    "        S[start], S[stop - 1] = S[stop -1], S[start]\n",
    "        start,stop = start + 1,stop - 1"
   ]
  },
  {
   "cell_type": "code",
   "execution_count": 26,
   "metadata": {},
   "outputs": [],
   "source": [
    "#Using Recursion to solve power, by using floor division\n",
    "\n",
    "def power(x,n):\n",
    "    # Compute the value of x**n for integer n\n",
    "    if n == 0:\n",
    "        return 1\n",
    "    else:\n",
    "        partial = power(x,n//2)\n",
    "        result = partial * partial\n",
    "        if n%2 == 1:\n",
    "            result *= x\n",
    "        return result"
   ]
  },
  {
   "cell_type": "code",
   "execution_count": 29,
   "metadata": {},
   "outputs": [
    {
     "data": {
      "text/plain": "134217728"
     },
     "execution_count": 29,
     "metadata": {},
     "output_type": "execute_result"
    }
   ],
   "source": [
    "power(8,9)"
   ]
  },
  {
   "cell_type": "code",
   "execution_count": 26,
   "metadata": {},
   "outputs": [],
   "source": [
    "def max_Elem(arr):\n",
    "    maximum= arr[0]  # Initialize maximum element\n",
    "    \n",
    "    # Traverse array elements from second \n",
    "    # and compare every element with  \n",
    "    # current max \n",
    "    \n",
    "    for i in range(1, len(arr)): \n",
    "        if arr[i] > maximum: \n",
    "            maximum = arr[i] \n",
    "    return maximum\n"
   ]
  },
  {
   "cell_type": "code",
   "execution_count": 27,
   "metadata": {},
   "outputs": [
    {
     "data": {
      "text/plain": "893"
     },
     "execution_count": 27,
     "metadata": {},
     "output_type": "execute_result"
    }
   ],
   "source": [
    "data = [1,4,6,893]\n",
    "max_Elem(data)"
   ]
  },
  {
   "cell_type": "code",
   "execution_count": 41,
   "metadata": {},
   "outputs": [],
   "source": [
    "def max_Element_Recursion(arr,n):\n",
    "    if n == 1:\n",
    "        return arr[0]\n",
    "    else:\n",
    "        return max(arr[n-1],max_Element_Recursion(arr,n-1))"
   ]
  },
  {
   "cell_type": "code",
   "execution_count": 42,
   "metadata": {},
   "outputs": [
    {
     "name": "stdout",
     "output_type": "stream",
     "text": "1000\n"
    }
   ],
   "source": [
    "if __name__ == \"__main__\": \n",
    "      \n",
    "    A = [1, 400, 45, 6, -50, 1000, 2] \n",
    "    n = len(A) \n",
    "    print(max_Element_Recursion(A, n)) "
   ]
  },
  {
   "cell_type": "code",
   "execution_count": null,
   "metadata": {},
   "outputs": [],
   "source": []
  }
 ]
}